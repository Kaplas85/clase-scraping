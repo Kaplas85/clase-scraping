{
 "cells": [
  {
   "cell_type": "code",
   "execution_count": 1,
   "id": "f988ee94",
   "metadata": {},
   "outputs": [],
   "source": [
    "import requests\n",
    "from bs4 import BeautifulSoup"
   ]
  },
  {
   "cell_type": "code",
   "execution_count": 2,
   "id": "cd2a7081",
   "metadata": {},
   "outputs": [],
   "source": [
    "# Hacer la petición base\n",
    "r = requests.get('https://molinerosenlinea.com/tienda/')"
   ]
  },
  {
   "cell_type": "code",
   "execution_count": 3,
   "id": "682b5104",
   "metadata": {},
   "outputs": [
    {
     "data": {
      "text/plain": [
       "200"
      ]
     },
     "execution_count": 3,
     "metadata": {},
     "output_type": "execute_result"
    }
   ],
   "source": [
    "r.status_code"
   ]
  },
  {
   "cell_type": "code",
   "execution_count": 5,
   "id": "da4795da",
   "metadata": {},
   "outputs": [],
   "source": [
    "soup = BeautifulSoup(r.text, 'html.parser')"
   ]
  },
  {
   "cell_type": "code",
   "execution_count": 17,
   "id": "f14c1fb2",
   "metadata": {},
   "outputs": [
    {
     "data": {
      "text/plain": [
       "['https://molinerosenlinea.com/producto/eq-sonido-lg-rm1-speaker-lg/',\n",
       " 'https://molinerosenlinea.com/producto/eq-sonido-lg-cm4360-lg/',\n",
       " 'https://molinerosenlinea.com/producto/mueble-p-micro-oregon-indum/',\n",
       " 'https://molinerosenlinea.com/producto/div-c-entret-montana-indum/',\n",
       " 'https://molinerosenlinea.com/producto/div-c-entret-sevilla-indum/',\n",
       " 'https://molinerosenlinea.com/producto/eq-sonido-lg-cj44-440watts-lg/',\n",
       " 'https://molinerosenlinea.com/producto/gavetero-clasico-5g-25x48-indum/',\n",
       " 'https://molinerosenlinea.com/producto/barra-d-sonido-lg-sl4-lg/',\n",
       " 'https://molinerosenlinea.com/producto/cama-unip-foam-relax-pop-fam/',\n",
       " 'https://molinerosenlinea.com/producto/estufa-mabe-20-ema5105ab0-bco-mbe/',\n",
       " 'https://molinerosenlinea.com/producto/div-c-entret-bolton-indum/',\n",
       " 'https://molinerosenlinea.com/producto/eq-sonido-lg-cj45-770watts-lg/',\n",
       " 'https://molinerosenlinea.com/producto/jgo-comedor-4s-pekin-c-nogal-indum/',\n",
       " 'https://molinerosenlinea.com/producto/eq-sonido-lg-rn5-speaker-lg/',\n",
       " 'https://molinerosenlinea.com/producto/chinero-alacena-dublin-indum/',\n",
       " 'https://molinerosenlinea.com/producto/jgo-sala-kimberly-3pzas-indum/']"
      ]
     },
     "execution_count": 17,
     "metadata": {},
     "output_type": "execute_result"
    }
   ],
   "source": [
    "# Items list\n",
    "products_lists = soup.select('.products-grid ol li div span a')\n",
    "products_lists = [x.get('href') for x in products_lists]\n",
    "products_lists"
   ]
  },
  {
   "cell_type": "code",
   "execution_count": 18,
   "id": "f272ca32",
   "metadata": {},
   "outputs": [
    {
     "data": {
      "text/plain": [
       "200"
      ]
     },
     "execution_count": 18,
     "metadata": {},
     "output_type": "execute_result"
    }
   ],
   "source": [
    "# Detail Product\n",
    "d = requests.get(products_lists[0])\n",
    "d.status_code"
   ]
  },
  {
   "cell_type": "code",
   "execution_count": 19,
   "id": "b5e774aa",
   "metadata": {},
   "outputs": [],
   "source": [
    "s = BeautifulSoup(d.text, 'html.parser')"
   ]
  },
  {
   "cell_type": "code",
   "execution_count": 22,
   "id": "307800b3",
   "metadata": {},
   "outputs": [
    {
     "data": {
      "text/plain": [
       "'eq. sonido lg rm1 speaker * lg'"
      ]
     },
     "execution_count": 22,
     "metadata": {},
     "output_type": "execute_result"
    }
   ],
   "source": [
    "# Title Product\n",
    "title = s.find('h1').get_text().strip().lower()\n",
    "title"
   ]
  },
  {
   "cell_type": "code",
   "execution_count": 25,
   "id": "efbec774",
   "metadata": {},
   "outputs": [
    {
     "data": {
      "text/plain": [
       "'lg'"
      ]
     },
     "execution_count": 25,
     "metadata": {},
     "output_type": "execute_result"
    }
   ],
   "source": [
    "# Brand\n",
    "brand = s.find('div', attrs={'class':'product-item-brandname'}).get_text().lower()\n",
    "brand"
   ]
  },
  {
   "cell_type": "code",
   "execution_count": 38,
   "id": "7640343c",
   "metadata": {},
   "outputs": [
    {
     "data": {
      "text/plain": [
       "'3999'"
      ]
     },
     "execution_count": 38,
     "metadata": {},
     "output_type": "execute_result"
    }
   ],
   "source": [
    "# Real price\n",
    "real_price = s.find('span', attrs={'class':'old-price'}).find('span', attrs={'class':'price'}).get_text().replace('L', '').replace(',','').strip()\n",
    "real_price"
   ]
  },
  {
   "cell_type": "code",
   "execution_count": 41,
   "id": "865b0bd8",
   "metadata": {},
   "outputs": [
    {
     "data": {
      "text/plain": [
       "'3200'"
      ]
     },
     "execution_count": 41,
     "metadata": {},
     "output_type": "execute_result"
    }
   ],
   "source": [
    "# Actual Price\n",
    "actual_price = s.find('span', attrs={'class':'special-price'}).find('span', attrs={'class':'price'}).get_text().replace('L', '').replace(',','').strip()\n",
    "actual_price"
   ]
  },
  {
   "cell_type": "code",
   "execution_count": 54,
   "id": "98cac45d",
   "metadata": {},
   "outputs": [
    {
     "data": {
      "text/plain": [
       "{'title': 'eq. sonido lg rm1 speaker * lg',\n",
       " 'brand': 'lg',\n",
       " 'real_price': 167.96,\n",
       " 'actual_price': 134.4,\n",
       " 'url': 'https://molinerosenlinea.com/producto/eq-sonido-lg-rm1-speaker-lg/'}"
      ]
     },
     "execution_count": 54,
     "metadata": {},
     "output_type": "execute_result"
    }
   ],
   "source": [
    "item = {\n",
    "    'title': title,\n",
    "    'brand': brand,\n",
    "    'real_price':convert_lempiras_to_dollars(real_price),\n",
    "    'actual_price': convert_lempiras_to_dollars(actual_price),\n",
    "    'url': d.url\n",
    "}\n",
    "item"
   ]
  },
  {
   "cell_type": "markdown",
   "id": "a3800065",
   "metadata": {},
   "source": [
    "# Creación de funciones auxiliares"
   ]
  },
  {
   "cell_type": "code",
   "execution_count": 67,
   "id": "9d97b0eb",
   "metadata": {},
   "outputs": [],
   "source": [
    "# Lempiras to Dollars\n",
    "\n",
    "def convert_lempiras_to_dollars(price:str) -> float:\n",
    "    \"\"\"Convert lempiras to dollars using actual price\"\"\"\n",
    "    \n",
    "    return round(int(price) * 0.042, 2)"
   ]
  },
  {
   "cell_type": "code",
   "execution_count": 90,
   "id": "f693ef8f",
   "metadata": {},
   "outputs": [],
   "source": [
    "def get_all_products(request) -> list:\n",
    "    \"\"\"From page take all products\"\"\"\n",
    "    \n",
    "    try:\n",
    "        r = requests.get(request)\n",
    "    except:\n",
    "        print(f'Hubo un error en la url {request}')\n",
    "        return None\n",
    "    \n",
    "    if r.status_code == 200:\n",
    "        print(f'Scrapeando la categoria en url {request}')\n",
    "        soup = BeautifulSoup(r.text, 'html.parser')\n",
    "        \n",
    "        products_lists = soup.select('.products-grid ol li div span a')\n",
    "        products_lists = [x.get('href') for x in products_lists]\n",
    "        \n",
    "        return products_lists\n",
    "    else:\n",
    "        print(f'Codigo HTTP {r.status_code}. Se saltó a la siguiente ejecución')\n",
    "        return None"
   ]
  },
  {
   "cell_type": "code",
   "execution_count": 91,
   "id": "34be0ea8",
   "metadata": {},
   "outputs": [],
   "source": [
    "def get_products_detail(request) -> dict:\n",
    "    \"\"\"Get a product URL and return a dict of the item\"\"\"\n",
    "    \n",
    "    try:\n",
    "        r = requests.get(request)\n",
    "    except:\n",
    "        print(f'Hubo un error en la url {request}')\n",
    "        return None\n",
    "    \n",
    "    if r.status_code == 200:\n",
    "        print(f'Scrapeando el producto en la url {request}')\n",
    "        s = BeautifulSoup(r.text, 'html.parser')\n",
    "        \n",
    "        # Title\n",
    "        \n",
    "        title = s.find('h1').get_text().strip().lower()\n",
    "        \n",
    "        # Brand\n",
    "        brand = s.find('div', attrs={'class':'product-item-brandname'}).get_text().lower()\n",
    "        \n",
    "        # Real Price\n",
    "        real_price = s.find('span', attrs={'class':'old-price'}).find('span', attrs={'class':'price'}).get_text().replace('L', '').replace(',','').strip()\n",
    "        \n",
    "        # Actual Price\n",
    "        actual_price = s.find('span', attrs={'class':'special-price'}).find('span', attrs={'class':'price'}).get_text().replace('L', '').replace(',','').strip()\n",
    "        \n",
    "        item = {\n",
    "            'title': title,\n",
    "            'brand': brand,\n",
    "            'real_price':convert_lempiras_to_dollars(real_price),\n",
    "            'actual_price': convert_lempiras_to_dollars(actual_price),\n",
    "            'url': d.url\n",
    "        }\n",
    "        \n",
    "        return item\n",
    "    else:\n",
    "        print(f'Codigo HTTP {r.status_code}. Se saltó a la siguiente ejecución')\n",
    "        return None"
   ]
  },
  {
   "cell_type": "markdown",
   "id": "90bd108d",
   "metadata": {},
   "source": [
    "# Probando Funciones Auxiliares"
   ]
  },
  {
   "cell_type": "code",
   "execution_count": 68,
   "id": "275d5d8a",
   "metadata": {},
   "outputs": [],
   "source": [
    "details_products = []\n",
    "\n",
    "for product in products_lists:\n",
    "    details_products.append(get_products_detail(product))"
   ]
  },
  {
   "cell_type": "code",
   "execution_count": 70,
   "id": "f8df6798",
   "metadata": {},
   "outputs": [
    {
     "data": {
      "text/plain": [
       "16"
      ]
     },
     "execution_count": 70,
     "metadata": {},
     "output_type": "execute_result"
    }
   ],
   "source": [
    "len(details_products)"
   ]
  },
  {
   "cell_type": "markdown",
   "id": "beba9759",
   "metadata": {},
   "source": [
    "# Creando el Scraper"
   ]
  },
  {
   "cell_type": "code",
   "execution_count": 92,
   "id": "8e84f4eb",
   "metadata": {},
   "outputs": [
    {
     "name": "stdout",
     "output_type": "stream",
     "text": [
      "Scrapeando la categoria en url https://molinerosenlinea.com/tienda/page/1/\n",
      "Scrapeando el producto en la url https://molinerosenlinea.com/producto/eq-sonido-lg-rm1-speaker-lg/\n",
      "Scrapeando el producto en la url https://molinerosenlinea.com/producto/eq-sonido-lg-cm4360-lg/\n",
      "Scrapeando el producto en la url https://molinerosenlinea.com/producto/mueble-p-micro-oregon-indum/\n",
      "Scrapeando el producto en la url https://molinerosenlinea.com/producto/div-c-entret-montana-indum/\n",
      "Scrapeando el producto en la url https://molinerosenlinea.com/producto/div-c-entret-sevilla-indum/\n",
      "Scrapeando el producto en la url https://molinerosenlinea.com/producto/eq-sonido-lg-cj44-440watts-lg/\n",
      "Scrapeando el producto en la url https://molinerosenlinea.com/producto/gavetero-clasico-5g-25x48-indum/\n",
      "Scrapeando el producto en la url https://molinerosenlinea.com/producto/barra-d-sonido-lg-sl4-lg/\n",
      "Scrapeando el producto en la url https://molinerosenlinea.com/producto/cama-unip-foam-relax-pop-fam/\n",
      "Scrapeando el producto en la url https://molinerosenlinea.com/producto/estufa-mabe-20-ema5105ab0-bco-mbe/\n",
      "Scrapeando el producto en la url https://molinerosenlinea.com/producto/div-c-entret-bolton-indum/\n",
      "Scrapeando el producto en la url https://molinerosenlinea.com/producto/eq-sonido-lg-cj45-770watts-lg/\n",
      "Scrapeando el producto en la url https://molinerosenlinea.com/producto/jgo-comedor-4s-pekin-c-nogal-indum/\n",
      "Scrapeando el producto en la url https://molinerosenlinea.com/producto/eq-sonido-lg-rn5-speaker-lg/\n",
      "Scrapeando el producto en la url https://molinerosenlinea.com/producto/chinero-alacena-dublin-indum/\n",
      "Scrapeando el producto en la url https://molinerosenlinea.com/producto/jgo-sala-kimberly-3pzas-indum/\n",
      "Scrapeando la categoria en url https://molinerosenlinea.com/tienda/page/2/\n",
      "Scrapeando el producto en la url https://molinerosenlinea.com/producto/estufa-cetron-20-ec2040baim0-silver-mb/\n",
      "Scrapeando el producto en la url https://molinerosenlinea.com/producto/cama-mat-olympia-marbella-dco/\n",
      "Scrapeando el producto en la url https://molinerosenlinea.com/producto/cama-mat-olympia-soadora-plus-dco/\n",
      "Scrapeando el producto en la url https://molinerosenlinea.com/producto/div-c-entret-margini-c-nogal-indum/\n",
      "Scrapeando el producto en la url https://molinerosenlinea.com/producto/eq-sonido-lg-ck57-2500watts-lg/\n",
      "Scrapeando el producto en la url https://molinerosenlinea.com/producto/eq-sonido-lg-rn7-speaker-lg/\n",
      "Scrapeando el producto en la url https://molinerosenlinea.com/producto/jgo-comedor-4s-charlotte-m-p-mdf/\n",
      "Scrapeando el producto en la url https://molinerosenlinea.com/producto/cama-mat-foam-mundial-fam/\n",
      "Scrapeando el producto en la url https://molinerosenlinea.com/producto/chinero-alacena-vermont-indum/\n",
      "Scrapeando el producto en la url https://molinerosenlinea.com/producto/jgo-comedor-6s-pekin-c-nogal-indum/\n",
      "Scrapeando el producto en la url https://molinerosenlinea.com/producto/t-v-40-hisense-fhd-smart-40h5g/\n",
      "Scrapeando el producto en la url https://molinerosenlinea.com/producto/estufa-mabe-30-em7641baib0-bco-mbe/\n",
      "Scrapeando el producto en la url https://molinerosenlinea.com/producto/jgo-comedor-4s-samy-colleccion-m-p-mdf/\n",
      "Scrapeando el producto en la url https://molinerosenlinea.com/producto/cama-mat-olympia-soadora-one-pillow/\n",
      "Scrapeando el producto en la url https://molinerosenlinea.com/producto/refri-mabe-6ft-1pta-rmc181pxmrb0-mber/\n",
      "Scrapeando el producto en la url https://molinerosenlinea.com/producto/refri-mabe-8ft-1pta-rmd156pvrrs0-mbe/\n",
      "Scrapeando la categoria en url https://molinerosenlinea.com/tienda/page/3/\n",
      "Scrapeando el producto en la url https://molinerosenlinea.com/producto/t-v-rca-40-smart-rc40a-q-19s-sm-21bt3d/\n",
      "Scrapeando el producto en la url https://molinerosenlinea.com/producto/aire-aco-mabe-mmt12cdbwccax8-12000-btu/\n",
      "Scrapeando el producto en la url https://molinerosenlinea.com/producto/cama-mat-olympia-extra-sense-dco/\n",
      "Scrapeando el producto en la url https://molinerosenlinea.com/producto/t-v-rca-43-smart-rc43a21bt3d/\n",
      "Scrapeando el producto en la url https://molinerosenlinea.com/producto/refri-mabe-6ft-1pta-rmc181pxmrx0-mbe/\n",
      "Scrapeando el producto en la url https://molinerosenlinea.com/producto/cama-mat-foam-comf-firm-p-top-c-b-a/\n",
      "Scrapeando el producto en la url https://molinerosenlinea.com/producto/chinero-alacena-beverly-hills-indum/\n",
      "Scrapeando el producto en la url https://molinerosenlinea.com/producto/estufa-mabe-20-elect-eme5025bsb0-bco/\n",
      "Scrapeando el producto en la url https://molinerosenlinea.com/producto/estufa-mabe-30-em7641bais0-sver-mbe/\n",
      "Scrapeando el producto en la url https://molinerosenlinea.com/producto/jgo-sala-san-pedro-3-pzas-2-indum/\n",
      "Scrapeando el producto en la url https://molinerosenlinea.com/producto/ropero-clasico-francia-c-nogal-indum/\n",
      "Scrapeando el producto en la url https://molinerosenlinea.com/producto/cama-mat-olympia-palma-real-dco/\n",
      "Scrapeando el producto en la url https://molinerosenlinea.com/producto/t-v-rca-46-smart-rc46p-e-21s-sm/\n",
      "Scrapeando el producto en la url https://molinerosenlinea.com/producto/jgo-comedor-6s-charlotte-m-p-mdf/\n",
      "Scrapeando el producto en la url https://molinerosenlinea.com/producto/cama-queen-olympia-extra-sense-dco/\n",
      "Scrapeando el producto en la url https://molinerosenlinea.com/producto/t-v-lg-43-smart-ud-43lm6300psb-lg/\n",
      "Scrapeando la categoria en url https://molinerosenlinea.com/tienda/page/4/\n",
      "Scrapeando el producto en la url https://molinerosenlinea.com/producto/estufa-mabe-30-cma3010ago-slv-mbe/\n",
      "Scrapeando el producto en la url https://molinerosenlinea.com/producto/jgo-comedor-4s-delta-m-h-indum/\n",
      "Scrapeando el producto en la url https://molinerosenlinea.com/producto/cama-queen-foam-comf-firm-p-top-c-b-a/\n",
      "Scrapeando el producto en la url https://molinerosenlinea.com/producto/t-v-43-hisense-uhd-smart-43h6500g/\n",
      "Scrapeando el producto en la url https://molinerosenlinea.com/producto/estufa-mabe-30-eme7630beb0-bl-mbe/\n",
      "Scrapeando el producto en la url https://molinerosenlinea.com/producto/lavadora-mabe-16kg-lma46102vbabo/\n",
      "Scrapeando el producto en la url https://molinerosenlinea.com/producto/cama-queen-foam-palma-real/\n",
      "Scrapeando el producto en la url https://molinerosenlinea.com/producto/cama-mat-olympia-extra-sense-plus-dco/\n",
      "Scrapeando el producto en la url https://molinerosenlinea.com/producto/ropero-clasico-lancaster-indum/\n",
      "Scrapeando el producto en la url https://molinerosenlinea.com/producto/ropero-venecia-c-n-indum/\n",
      "Scrapeando el producto en la url https://molinerosenlinea.com/producto/aire-aco-elements-12000btu-hc-ac12i-156/\n",
      "Scrapeando el producto en la url https://molinerosenlinea.com/producto/cama-queen-olympia-palma-real-dco/\n",
      "Scrapeando el producto en la url https://molinerosenlinea.com/producto/jgo-comedor-6s-samy-collection-m-p-mdf/\n",
      "Scrapeando el producto en la url https://molinerosenlinea.com/producto/t-v-lg-43-smart-ud-43un7300psclg/\n",
      "Scrapeando el producto en la url https://molinerosenlinea.com/producto/refri-mabe-10ft-2pta-rma250famre1-mbe/\n",
      "Scrapeando el producto en la url https://molinerosenlinea.com/producto/eq-sonido-lg-rn9-speaker-lg/\n",
      "Scrapeando la categoria en url https://molinerosenlinea.com/tienda/page/5/\n",
      "Scrapeando el producto en la url https://molinerosenlinea.com/producto/estufa-mabe-30-eme7630besl0-sl-mbe/\n",
      "Scrapeando el producto en la url https://molinerosenlinea.com/producto/estufa-mabe-30-gas-cma3020fg0-slv-mbe/\n",
      "Scrapeando el producto en la url https://molinerosenlinea.com/producto/refri-mabe-14ft-2pta-rma300fhmre1-mbe-2/\n",
      "Scrapeando el producto en la url https://molinerosenlinea.com/producto/t-v-50-hisense-uhd-smart-50h6500g/\n",
      "Scrapeando el producto en la url https://molinerosenlinea.com/producto/jgo-sala-3pzas-dolce-vita/\n",
      "Scrapeando el producto en la url https://molinerosenlinea.com/producto/ropero-clasico-paris-c-nogal-indum/\n",
      "Scrapeando el producto en la url https://molinerosenlinea.com/producto/refri-mabe-13ft-2-ptas-rmc400fvnb-bco/\n",
      "Scrapeando el producto en la url https://molinerosenlinea.com/producto/lavadora-ryder-hc-wmmad160-e/\n",
      "Scrapeando el producto en la url https://molinerosenlinea.com/producto/refri-mabe-13ft-2-ptas-rmc400fvne-sl/\n",
      "Scrapeando el producto en la url https://molinerosenlinea.com/producto/eq-sonido-lg-cl88lg/\n",
      "Scrapeando el producto en la url https://molinerosenlinea.com/producto/jgo-comedor-6s-delta-m-h-indum/\n"
     ]
    },
    {
     "name": "stdout",
     "output_type": "stream",
     "text": [
      "Scrapeando el producto en la url https://molinerosenlinea.com/producto/cama-queen-olympia-extra-sense-plus-dc/\n",
      "Scrapeando el producto en la url https://molinerosenlinea.com/producto/jgo-sala-sofia-3-pzas-indum/\n",
      "Scrapeando el producto en la url https://molinerosenlinea.com/producto/recamara-king-girasol-indum/\n",
      "Scrapeando el producto en la url https://molinerosenlinea.com/producto/aire-aco-mabe-mmi12cdbwccax8-12000-btu/\n",
      "Scrapeando el producto en la url https://molinerosenlinea.com/producto/cama-king-olympia-extra-sense-dco/\n",
      "Scrapeando la categoria en url https://molinerosenlinea.com/tienda/page/6/\n",
      "Scrapeando el producto en la url https://molinerosenlinea.com/producto/lavadora-mabe-19kg-lma79113vbab0-mbe/\n",
      "Scrapeando el producto en la url https://molinerosenlinea.com/producto/estufa-mabe-30-cma3020fxo-inox-mbe/\n",
      "Scrapeando el producto en la url https://molinerosenlinea.com/producto/jgo-sala-catracho-3-pzas-indum/\n",
      "Scrapeando el producto en la url https://molinerosenlinea.com/producto/lavadora-aut-mabe-bla-lma72215cbab0/\n",
      "Scrapeando el producto en la url https://molinerosenlinea.com/producto/recamara-king-paris-indum/\n",
      "Scrapeando el producto en la url https://molinerosenlinea.com/producto/cama-king-foam-palma-real/\n",
      "Scrapeando el producto en la url https://molinerosenlinea.com/producto/t-v-samsung-43-smart-un43tu7000fxza/\n",
      "Scrapeando el producto en la url https://molinerosenlinea.com/producto/t-v-lg-50-smart-ud-50un7300psc-lg/\n",
      "Scrapeando el producto en la url https://molinerosenlinea.com/producto/refri-mabe-14ft-2pta-rma300fznu-mbe/\n",
      "Scrapeando el producto en la url https://molinerosenlinea.com/producto/refri-mabe-14ft-2pta-rmp400fznu-inox/\n",
      "Scrapeando el producto en la url https://molinerosenlinea.com/producto/lavadora-aut-mabe-bla-lmh72205wbabo/\n",
      "Scrapeando el producto en la url https://molinerosenlinea.com/producto/t-v-lg-50smart-ud-50nan079sn/\n",
      "Scrapeando el producto en la url https://molinerosenlinea.com/producto/freezer-grs-10-gf-320/\n",
      "Scrapeando el producto en la url https://molinerosenlinea.com/producto/refri-mabe-14ft-2pta-rmp400fznc-mbe/\n",
      "Scrapeando el producto en la url https://molinerosenlinea.com/producto/refri-grd-410-vcm-grs/\n",
      "Scrapeando el producto en la url https://molinerosenlinea.com/producto/lavadora-lg-22kg-wt22wt6h/\n",
      "Scrapeando la categoria en url https://molinerosenlinea.com/tienda/page/7/\n",
      "Scrapeando el producto en la url https://molinerosenlinea.com/producto/cama-king-olympia-extra-sense-plus-dco/\n",
      "Scrapeando el producto en la url https://molinerosenlinea.com/producto/t-v-lg-55-uhd-4k-smart-55un7300psc-lg/\n",
      "Scrapeando el producto en la url https://molinerosenlinea.com/producto/aire-aco-mabe-mmi12cdbwccax8-12000-btu-2/\n",
      "Scrapeando el producto en la url https://molinerosenlinea.com/producto/jgo-sala-sarina-indum/\n",
      "Scrapeando el producto en la url https://molinerosenlinea.com/producto/jgo-sala-columbia-indum/\n",
      "Scrapeando el producto en la url https://molinerosenlinea.com/producto/jgo-sala-isabel-3-pzas-2-indum/\n",
      "Scrapeando el producto en la url https://molinerosenlinea.com/producto/jgo-comedor-6s-imperial-m-h/\n",
      "Scrapeando el producto en la url https://molinerosenlinea.com/producto/jgo-sala-seccional-2-3pzas-indum/\n",
      "Scrapeando el producto en la url https://molinerosenlinea.com/producto/t-v-lg-65-uhd-4k-smart-65un7300lg/\n",
      "Scrapeando el producto en la url https://molinerosenlinea.com/producto/moto-125-ryder-hc125-12/\n",
      "Scrapeando el producto en la url https://molinerosenlinea.com/producto/jgo-sala-3pzas-zurich-indum/\n",
      "Scrapeando el producto en la url https://molinerosenlinea.com/producto/moto-125-ryder-hc125-cg1/\n",
      "Scrapeando el producto en la url https://molinerosenlinea.com/producto/moto-150-ryder-hc150-cg4/\n",
      "Scrapeando el producto en la url https://molinerosenlinea.com/producto/recamara-king-chelsea-indum/\n",
      "Scrapeando el producto en la url https://molinerosenlinea.com/producto/jgo-sala-3pzas-manchester-indum/\n",
      "Scrapeando el producto en la url https://molinerosenlinea.com/producto/moto-150-ryder-hc150-15/\n",
      "Scrapeando la categoria en url https://molinerosenlinea.com/tienda/page/8/\n",
      "Scrapeando el producto en la url https://molinerosenlinea.com/producto/moto-200-ryder-hc200gy-18/\n",
      "Scrapeando el producto en la url https://molinerosenlinea.com/producto/moto-150-ryder-hc150-13/\n",
      "Scrapeando el producto en la url https://molinerosenlinea.com/producto/moto-150-ryder-hc150-leopard/\n"
     ]
    }
   ],
   "source": [
    "all_products = []\n",
    "\n",
    "try:\n",
    "    base = requests.get('https://molinerosenlinea.com/tienda/')\n",
    "except:\n",
    "    print('La URL base dio error')\n",
    "    \n",
    "if base.status_code == 200:\n",
    "\n",
    "    sopa = BeautifulSoup(base.text, 'html.parser')\n",
    "\n",
    "    pages = sopa.select('.pages ul li:last-child a span:last-child')[0].get_text()\n",
    "\n",
    "    for i in range(1, int(pages) + 1):\n",
    "        \n",
    "        for product in get_all_products(f'https://molinerosenlinea.com/tienda/page/{i}/'):\n",
    "            all_products.append(get_products_detail(product))\n",
    "                                        \n",
    "else:\n",
    "    print(f'Codigo HTTP {base.status_code}. ERROR')\n",
    "        "
   ]
  },
  {
   "cell_type": "code",
   "execution_count": 94,
   "id": "7cd3ad5c",
   "metadata": {},
   "outputs": [
    {
     "data": {
      "text/plain": [
       "115"
      ]
     },
     "execution_count": 94,
     "metadata": {},
     "output_type": "execute_result"
    }
   ],
   "source": [
    "len(all_products)"
   ]
  }
 ],
 "metadata": {
  "kernelspec": {
   "display_name": "Python 3 (ipykernel)",
   "language": "python",
   "name": "python3"
  },
  "language_info": {
   "codemirror_mode": {
    "name": "ipython",
    "version": 3
   },
   "file_extension": ".py",
   "mimetype": "text/x-python",
   "name": "python",
   "nbconvert_exporter": "python",
   "pygments_lexer": "ipython3",
   "version": "3.9.6"
  }
 },
 "nbformat": 4,
 "nbformat_minor": 5
}
